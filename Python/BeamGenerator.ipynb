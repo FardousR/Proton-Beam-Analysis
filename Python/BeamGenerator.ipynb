{
 "cells": [
  {
   "cell_type": "code",
   "execution_count": 1,
   "metadata": {},
   "outputs": [],
   "source": [
    "import numpy as np\n",
    "#from tabulate import tabulate\n",
    "import pandas as pd\n",
    "import tkinter as tk\n",
    "import matplotlib.pyplot as plt\n",
    "import math as mt\n",
    "import os"
   ]
  },
  {
   "cell_type": "code",
   "execution_count": 2,
   "metadata": {},
   "outputs": [],
   "source": [
    "####################################\n",
    "#        Beam Generation           #\n",
    "####################################\n",
    "def beam_generation(parameters):\n",
    "    no_particle =int(parameters[0])\n",
    "    alpha_x = parameters[1]\n",
    "    alpha_y = parameters[2]\n",
    "    beta_x = parameters[3]\n",
    "    beta_y = parameters[4]\n",
    "    gamma_x = (1+pow(alpha_x,2))/beta_x\n",
    "    gamma_y = (1+pow(alpha_y,2))/beta_y\n",
    "\n",
    "    sigma_x = parameters[5]                                         # m\n",
    "    sigma_y = parameters[6]                                         # m\n",
    "\n",
    "    em_rms_x = pow(sigma_x, 2)/beta_x                               # GEOMETRIC emittance(x)\n",
    "    em_rms_y = pow(sigma_y, 2)/beta_y                               # GEOMETRIC emittance(y)\n",
    "\n",
    "\n",
    "    # define the beam distribution, one dimension at the time\n",
    "    # x-x'\n",
    "    MU_x = np.array([0, 0])\n",
    "    SIGMA_x = em_rms_x*np.array([[beta_x,  -alpha_x], [-alpha_x, gamma_x]])\n",
    "    B_x = np.random.multivariate_normal(MU_x, SIGMA_x, no_particle)           # sample particles from a multi-variable Gaussian (requires statistics toolbol)\n",
    "\n",
    "    # y-y'\n",
    "    MU_y = np.array([0, 0])\n",
    "    SIGMA_y = em_rms_y*np.array([[beta_y,  -alpha_y], [-alpha_y, gamma_y]])\n",
    "    B_y = np.random.multivariate_normal(MU_y, SIGMA_y, no_particle)           # sample particles from a multi-variable Gaussian (requires statistics toolbox)\n",
    "\n",
    "    beam = np.array([B_x[:,0], B_x[:,1], B_y[:,0], B_y[:,1]])\n",
    "    return (beam.transpose())"
   ]
  },
  {
   "cell_type": "code",
   "execution_count": 3,
   "metadata": {},
   "outputs": [
    {
     "name": "stdout",
     "output_type": "stream",
     "text": [
      "0.0299968041144528 0.02997091290596201\n"
     ]
    },
    {
     "data": {
      "image/png": "[encoded data removed]",
      "text/plain": [
       "<Figure size 432x288 with 1 Axes>"
      ]
     },
     "metadata": {
      "needs_background": "light"
     },
     "output_type": "display_data"
    }
   ],
   "source": [
    "no_particle = 1000000\n",
    "ini_alpha_x = 5;\n",
    "ini_alpha_y = 5;\n",
    "\n",
    "ini_beta_x = 18.8;               # in m\n",
    "ini_beta_y = 18.8;               # in m\n",
    "\n",
    "ini_gamma_x = (1 + pow(ini_alpha_x,2))/ini_beta_x;\n",
    "ini_gamma_y = (1 + pow(ini_alpha_y,2))/ini_beta_y;\n",
    "\n",
    "#ini_rms_size_x = 0.6383e-3;       # in m\n",
    "#ini_rms_size_y = 0.6383e-3;       # in m\n",
    "\n",
    "ini_rms_size_x = 30.0e-3;       # in m\n",
    "ini_rms_size_y = 30.0e-3;       # in m\n",
    "\n",
    "\n",
    "em_rms_x = pow(ini_rms_size_x, 2)/ini_beta_x                               # GEOMETRIC emittance(x)\n",
    "em_rms_y = pow(ini_rms_size_y, 2)/ini_beta_y                               # GEOMETRIC emittance(y)\n",
    "\n",
    "input = np.array([no_particle, ini_alpha_x, ini_alpha_y, ini_beta_x, ini_beta_y, ini_rms_size_x, ini_rms_size_y])\n",
    "\n",
    "beam =  np.array(beam_generation(input))\n",
    "print(np.std(beam[:,0]), np.std(beam[:,2]))\n",
    "plt.hist(beam[:,0], 30)\n",
    "plt.show()\n",
    "np.savetxt(\"beam.csv\", beam, delimiter= \",\" )"
   ]
  },
  {
   "cell_type": "code",
   "execution_count": 13,
   "metadata": {},
   "outputs": [
    {
     "name": "stdout",
     "output_type": "stream",
     "text": [
      "(5000, 4)\n"
     ]
    }
   ],
   "source": [
    "initialBeam =np.genfromtxt('/home/fardous/Desktop/Proton_Beam/OutputFile/InitialBeam.csv', delimiter=',')\n",
    "print(np.shape(initialBeam))"
   ]
  },
  {
   "cell_type": "code",
   "execution_count": 14,
   "metadata": {},
   "outputs": [
    {
     "name": "stdout",
     "output_type": "stream",
     "text": [
      "[[ 1.00076761e+02 -5.01820383e-01]\n",
      " [-5.01820383e-01  2.66711685e-03]]\n",
      "0.12285242365219995\n",
      "[[ 8.14609574e+02 -4.08474141e+00]\n",
      " [-4.08474141e+00  2.17099246e-02]]\n"
     ]
    }
   ],
   "source": [
    "sigma_x_pos = initialBeam[:,0]\n",
    "sigma_x_dir = initialBeam[:,1]\n",
    "\n",
    "cov_x = np.cov(sigma_x_pos, sigma_x_dir)\n",
    "print(cov_x)\n",
    "emit = mt.sqrt(cov_x[0,0]*cov_x[1,1]- cov_x[0,1]**2)\n",
    "print(emit)\n",
    "opt = cov_x / emit\n",
    "print(opt)"
   ]
  },
  {
   "cell_type": "code",
   "execution_count": null,
   "metadata": {},
   "outputs": [],
   "source": []
  }
 ],
 "metadata": {
  "kernelspec": {
   "display_name": "Python 3",
   "language": "python",
   "name": "python3"
  },
  "language_info": {
   "codemirror_mode": {
    "name": "ipython",
    "version": 3
   },
   "file_extension": ".py",
   "mimetype": "text/x-python",
   "name": "python",
   "nbconvert_exporter": "python",
   "pygments_lexer": "ipython3",
   "version": "3.8.5"
  }
 },
 "nbformat": 4,
 "nbformat_minor": 4
}
